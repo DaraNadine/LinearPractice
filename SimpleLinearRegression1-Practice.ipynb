{
 "cells": [
  {
   "cell_type": "code",
   "execution_count": null,
   "id": "ad315385",
   "metadata": {},
   "outputs": [],
   "source": [
    "from sklearn.datasets import load_diabetes\n",
    "import pandas as pd\n",
    "import numpy as np\n",
    "from matplotlib import pyplot as plt\n",
    "from mpl_toolkits.mplot3d import Axes3D\n",
    "from random import gauss\n",
    "from scipy import stats\n",
    "import seaborn as sns\n",
    "from sklearn.linear_model import LinearRegression\n",
    "from mpl_toolkits import mplot3d\n",
    "import sklearn.metrics as metrics\n",
    "import statsmodels.api as sm\n",
    "\n",
    "import sys\n",
    "import os\n",
    "module_path = os.path.abspath(os.pardir)\n",
    "if module_path not in sys.path:\n",
    "    sys.path.append(module_path)\n",
    "from lin_reg import best_line\n",
    "\n",
    "%matplotlib inline"
   ]
  },
  {
   "cell_type": "markdown",
   "id": "ef05f87a",
   "metadata": {},
   "source": [
    "### Using the diabetes dataset we are going to run a simple linear model to predict bmi"
   ]
  },
  {
   "cell_type": "code",
   "execution_count": null,
   "id": "bdb67424",
   "metadata": {},
   "outputs": [],
   "source": [
    "#Run Cell without changes\n",
    "\n",
    "data = load_diabetes()\n",
    "df = pd.DataFrame(data.data, columns=data.feature_names)"
   ]
  },
  {
   "cell_type": "code",
   "execution_count": null,
   "id": "117c462b",
   "metadata": {},
   "outputs": [],
   "source": [
    "#Explore the columns of the dataset \n",
    "\n",
    "#Code Here "
   ]
  },
  {
   "cell_type": "code",
   "execution_count": null,
   "id": "dbc9b248",
   "metadata": {},
   "outputs": [],
   "source": [
    "#Assign the proper dataset variables below \n",
    "\n",
    "bmi = \n",
    "predictors = \n"
   ]
  },
  {
   "cell_type": "code",
   "execution_count": null,
   "id": "7ec4917d",
   "metadata": {},
   "outputs": [],
   "source": [
    "#Run your linear regression \n",
    "\n",
    "linear_regression_model = "
   ]
  },
  {
   "cell_type": "code",
   "execution_count": null,
   "id": "05815721",
   "metadata": {},
   "outputs": [],
   "source": [
    "#Fit and run a summary on the model "
   ]
  }
 ],
 "metadata": {
  "kernelspec": {
   "display_name": "Python 3",
   "language": "python",
   "name": "python3"
  },
  "language_info": {
   "codemirror_mode": {
    "name": "ipython",
    "version": 3
   },
   "file_extension": ".py",
   "mimetype": "text/x-python",
   "name": "python",
   "nbconvert_exporter": "python",
   "pygments_lexer": "ipython3",
   "version": "3.8.8"
  }
 },
 "nbformat": 4,
 "nbformat_minor": 5
}
